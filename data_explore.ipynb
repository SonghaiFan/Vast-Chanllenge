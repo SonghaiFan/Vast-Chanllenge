{
 "cells": [
  {
   "cell_type": "code",
   "execution_count": 1,
   "metadata": {},
   "outputs": [
    {
     "name": "stdout",
     "output_type": "stream",
     "text": [
      "Keys in data: ['directed', 'multigraph', 'graph', 'nodes', 'links']\n"
     ]
    }
   ],
   "source": [
    "import json\n",
    "\n",
    "# Load the JSON data\n",
    "with open('MC1/V1/MC1.json') as f:\n",
    "    data = json.load(f)\n",
    "\n",
    "# Print the keys in the JSON data\n",
    "print('Keys in data:', list(data.keys()))"
   ]
  },
  {
   "cell_type": "code",
   "execution_count": 2,
   "metadata": {},
   "outputs": [
    {
     "data": {
      "text/plain": [
       "True"
      ]
     },
     "execution_count": 2,
     "metadata": {},
     "output_type": "execute_result"
    }
   ],
   "source": [
    "data['directed']"
   ]
  },
  {
   "cell_type": "code",
   "execution_count": 3,
   "metadata": {},
   "outputs": [
    {
     "data": {
      "text/plain": [
       "True"
      ]
     },
     "execution_count": 3,
     "metadata": {},
     "output_type": "execute_result"
    }
   ],
   "source": [
    "data['multigraph']"
   ]
  },
  {
   "cell_type": "code",
   "execution_count": 4,
   "metadata": {},
   "outputs": [
    {
     "data": {
      "text/plain": [
       "{}"
      ]
     },
     "execution_count": 4,
     "metadata": {},
     "output_type": "execute_result"
    }
   ],
   "source": [
    "data['graph']"
   ]
  },
  {
   "cell_type": "code",
   "execution_count": 5,
   "metadata": {},
   "outputs": [
    {
     "name": "stdout",
     "output_type": "stream",
     "text": [
      "Number of nodes: 3428\n",
      "Number of edges: 11069\n"
     ]
    }
   ],
   "source": [
    "num_nodes = len(data['nodes'])\n",
    "num_edges = len(data['links'])\n",
    "print('Number of nodes:', num_nodes)\n",
    "print('Number of edges:', num_edges)"
   ]
  },
  {
   "cell_type": "code",
   "execution_count": 6,
   "metadata": {},
   "outputs": [
    {
     "name": "stdout",
     "output_type": "stream",
     "text": [
      "Node types: {'political_organization', 'vessel', 'company', 'movement', 'location', 'event', 'person', 'organization'}\n",
      "Edge types: {'family_relationship', 'partnership', 'membership', 'ownership'}\n"
     ]
    }
   ],
   "source": [
    "node_types = set(node['type'] for node in data['nodes'] if 'type' in node)\n",
    "edge_types = set(edge['type'] for edge in data['links'] if 'type' in edge)\n",
    "print('Node types:', node_types)\n",
    "print('Edge types:', edge_types)"
   ]
  },
  {
   "cell_type": "code",
   "execution_count": 7,
   "metadata": {},
   "outputs": [
    {
     "data": {
      "text/plain": [
       "[{'type': 'company',\n",
       "  'dataset': 'MC1',\n",
       "  'country': 'Nalakond',\n",
       "  'id': 'Spanish Shrimp  Carriers'},\n",
       " {'type': 'organization', 'dataset': 'MC1', 'id': 12744},\n",
       " {'type': 'organization', 'dataset': 'MC1', 'id': 143129355},\n",
       " {'type': 'organization', 'dataset': 'MC1', 'id': 7775},\n",
       " {'type': 'organization', 'dataset': 'MC1', 'id': 1017141}]"
      ]
     },
     "execution_count": 7,
     "metadata": {},
     "output_type": "execute_result"
    }
   ],
   "source": [
    "data['nodes'][:5]"
   ]
  },
  {
   "cell_type": "code",
   "execution_count": 8,
   "metadata": {},
   "outputs": [
    {
     "data": {
      "text/plain": [
       "[{'type': 'ownership',\n",
       "  'weight': 0.90013963,\n",
       "  'dataset': 'MC1',\n",
       "  'source': 'Spanish Shrimp  Carriers',\n",
       "  'target': 12744,\n",
       "  'key': 0},\n",
       " {'type': 'partnership',\n",
       "  'weight': 0.8458973,\n",
       "  'dataset': 'MC1',\n",
       "  'source': 'Spanish Shrimp  Carriers',\n",
       "  'target': 21323516,\n",
       "  'key': 0},\n",
       " {'type': 'partnership',\n",
       "  'weight': 0.9648761,\n",
       "  'dataset': 'MC1',\n",
       "  'source': 'Spanish Shrimp  Carriers',\n",
       "  'target': 290834957,\n",
       "  'key': 0},\n",
       " {'type': 'ownership',\n",
       "  'weight': 0.9642126,\n",
       "  'dataset': 'MC1',\n",
       "  'source': 'Spanish Shrimp  Carriers',\n",
       "  'target': 3506021,\n",
       "  'key': 0},\n",
       " {'type': 'family_relationship',\n",
       "  'weight': 0.82348585,\n",
       "  'dataset': 'MC1',\n",
       "  'source': 'Spanish Shrimp  Carriers',\n",
       "  'target': 'Conventionâ',\n",
       "  'key': 0}]"
      ]
     },
     "execution_count": 8,
     "metadata": {},
     "output_type": "execute_result"
    }
   ],
   "source": [
    "data['links'][:5]"
   ]
  },
  {
   "cell_type": "code",
   "execution_count": 9,
   "metadata": {},
   "outputs": [],
   "source": [
    "# convert data to dataframe\n",
    "import pandas as pd\n",
    "df_nodes = pd.DataFrame(data['nodes'])\n",
    "df_links = pd.DataFrame(data['links'])"
   ]
  },
  {
   "cell_type": "code",
   "execution_count": 10,
   "metadata": {},
   "outputs": [
    {
     "data": {
      "text/html": [
       "<div>\n",
       "<style scoped>\n",
       "    .dataframe tbody tr th:only-of-type {\n",
       "        vertical-align: middle;\n",
       "    }\n",
       "\n",
       "    .dataframe tbody tr th {\n",
       "        vertical-align: top;\n",
       "    }\n",
       "\n",
       "    .dataframe thead th {\n",
       "        text-align: right;\n",
       "    }\n",
       "</style>\n",
       "<table border=\"1\" class=\"dataframe\">\n",
       "  <thead>\n",
       "    <tr style=\"text-align: right;\">\n",
       "      <th></th>\n",
       "      <th>type</th>\n",
       "      <th>dataset</th>\n",
       "      <th>country</th>\n",
       "      <th>id</th>\n",
       "    </tr>\n",
       "  </thead>\n",
       "  <tbody>\n",
       "    <tr>\n",
       "      <th>0</th>\n",
       "      <td>company</td>\n",
       "      <td>MC1</td>\n",
       "      <td>Nalakond</td>\n",
       "      <td>Spanish Shrimp  Carriers</td>\n",
       "    </tr>\n",
       "    <tr>\n",
       "      <th>1</th>\n",
       "      <td>organization</td>\n",
       "      <td>MC1</td>\n",
       "      <td>NaN</td>\n",
       "      <td>12744</td>\n",
       "    </tr>\n",
       "    <tr>\n",
       "      <th>2</th>\n",
       "      <td>organization</td>\n",
       "      <td>MC1</td>\n",
       "      <td>NaN</td>\n",
       "      <td>143129355</td>\n",
       "    </tr>\n",
       "    <tr>\n",
       "      <th>3</th>\n",
       "      <td>organization</td>\n",
       "      <td>MC1</td>\n",
       "      <td>NaN</td>\n",
       "      <td>7775</td>\n",
       "    </tr>\n",
       "    <tr>\n",
       "      <th>4</th>\n",
       "      <td>organization</td>\n",
       "      <td>MC1</td>\n",
       "      <td>NaN</td>\n",
       "      <td>1017141</td>\n",
       "    </tr>\n",
       "    <tr>\n",
       "      <th>...</th>\n",
       "      <td>...</td>\n",
       "      <td>...</td>\n",
       "      <td>...</td>\n",
       "      <td>...</td>\n",
       "    </tr>\n",
       "    <tr>\n",
       "      <th>3423</th>\n",
       "      <td>NaN</td>\n",
       "      <td>MC1</td>\n",
       "      <td>NaN</td>\n",
       "      <td>OzonActionâs</td>\n",
       "    </tr>\n",
       "    <tr>\n",
       "      <th>3424</th>\n",
       "      <td>NaN</td>\n",
       "      <td>MC1</td>\n",
       "      <td>NaN</td>\n",
       "      <td>âEntirely</td>\n",
       "    </tr>\n",
       "    <tr>\n",
       "      <th>3425</th>\n",
       "      <td>NaN</td>\n",
       "      <td>MC1</td>\n",
       "      <td>NaN</td>\n",
       "      <td>Ocano del Este SE</td>\n",
       "    </tr>\n",
       "    <tr>\n",
       "      <th>3426</th>\n",
       "      <td>NaN</td>\n",
       "      <td>MC1</td>\n",
       "      <td>NaN</td>\n",
       "      <td>Norwegian Shrimp N.V. -</td>\n",
       "    </tr>\n",
       "    <tr>\n",
       "      <th>3427</th>\n",
       "      <td>NaN</td>\n",
       "      <td>MC1</td>\n",
       "      <td>NaN</td>\n",
       "      <td>Malabar Sea Catch Sp</td>\n",
       "    </tr>\n",
       "  </tbody>\n",
       "</table>\n",
       "<p>3428 rows × 4 columns</p>\n",
       "</div>"
      ],
      "text/plain": [
       "              type dataset   country                        id\n",
       "0          company     MC1  Nalakond  Spanish Shrimp  Carriers\n",
       "1     organization     MC1       NaN                     12744\n",
       "2     organization     MC1       NaN                 143129355\n",
       "3     organization     MC1       NaN                      7775\n",
       "4     organization     MC1       NaN                   1017141\n",
       "...            ...     ...       ...                       ...\n",
       "3423           NaN     MC1       NaN            OzonActionâs\n",
       "3424           NaN     MC1       NaN               âEntirely\n",
       "3425           NaN     MC1       NaN         Ocano del Este SE\n",
       "3426           NaN     MC1       NaN   Norwegian Shrimp N.V. -\n",
       "3427           NaN     MC1       NaN      Malabar Sea Catch Sp\n",
       "\n",
       "[3428 rows x 4 columns]"
      ]
     },
     "execution_count": 10,
     "metadata": {},
     "output_type": "execute_result"
    }
   ],
   "source": [
    "df_nodes"
   ]
  },
  {
   "cell_type": "code",
   "execution_count": 11,
   "metadata": {},
   "outputs": [
    {
     "data": {
      "text/html": [
       "<div>\n",
       "<style scoped>\n",
       "    .dataframe tbody tr th:only-of-type {\n",
       "        vertical-align: middle;\n",
       "    }\n",
       "\n",
       "    .dataframe tbody tr th {\n",
       "        vertical-align: top;\n",
       "    }\n",
       "\n",
       "    .dataframe thead th {\n",
       "        text-align: right;\n",
       "    }\n",
       "</style>\n",
       "<table border=\"1\" class=\"dataframe\">\n",
       "  <thead>\n",
       "    <tr style=\"text-align: right;\">\n",
       "      <th></th>\n",
       "      <th>type</th>\n",
       "      <th>weight</th>\n",
       "      <th>dataset</th>\n",
       "      <th>source</th>\n",
       "      <th>target</th>\n",
       "      <th>key</th>\n",
       "    </tr>\n",
       "  </thead>\n",
       "  <tbody>\n",
       "    <tr>\n",
       "      <th>0</th>\n",
       "      <td>ownership</td>\n",
       "      <td>0.900140</td>\n",
       "      <td>MC1</td>\n",
       "      <td>Spanish Shrimp  Carriers</td>\n",
       "      <td>12744</td>\n",
       "      <td>0</td>\n",
       "    </tr>\n",
       "    <tr>\n",
       "      <th>1</th>\n",
       "      <td>partnership</td>\n",
       "      <td>0.845897</td>\n",
       "      <td>MC1</td>\n",
       "      <td>Spanish Shrimp  Carriers</td>\n",
       "      <td>21323516</td>\n",
       "      <td>0</td>\n",
       "    </tr>\n",
       "    <tr>\n",
       "      <th>2</th>\n",
       "      <td>partnership</td>\n",
       "      <td>0.964876</td>\n",
       "      <td>MC1</td>\n",
       "      <td>Spanish Shrimp  Carriers</td>\n",
       "      <td>290834957</td>\n",
       "      <td>0</td>\n",
       "    </tr>\n",
       "    <tr>\n",
       "      <th>3</th>\n",
       "      <td>ownership</td>\n",
       "      <td>0.964213</td>\n",
       "      <td>MC1</td>\n",
       "      <td>Spanish Shrimp  Carriers</td>\n",
       "      <td>3506021</td>\n",
       "      <td>0</td>\n",
       "    </tr>\n",
       "    <tr>\n",
       "      <th>4</th>\n",
       "      <td>family_relationship</td>\n",
       "      <td>0.823486</td>\n",
       "      <td>MC1</td>\n",
       "      <td>Spanish Shrimp  Carriers</td>\n",
       "      <td>Conventionâ</td>\n",
       "      <td>0</td>\n",
       "    </tr>\n",
       "    <tr>\n",
       "      <th>...</th>\n",
       "      <td>...</td>\n",
       "      <td>...</td>\n",
       "      <td>...</td>\n",
       "      <td>...</td>\n",
       "      <td>...</td>\n",
       "      <td>...</td>\n",
       "    </tr>\n",
       "    <tr>\n",
       "      <th>11064</th>\n",
       "      <td>family_relationship</td>\n",
       "      <td>0.817772</td>\n",
       "      <td>MC1</td>\n",
       "      <td>Ocano del Este SE</td>\n",
       "      <td>Mary Clements</td>\n",
       "      <td>0</td>\n",
       "    </tr>\n",
       "    <tr>\n",
       "      <th>11065</th>\n",
       "      <td>partnership</td>\n",
       "      <td>0.873537</td>\n",
       "      <td>MC1</td>\n",
       "      <td>Norwegian Shrimp N.V. -</td>\n",
       "      <td>67261634</td>\n",
       "      <td>0</td>\n",
       "    </tr>\n",
       "    <tr>\n",
       "      <th>11066</th>\n",
       "      <td>partnership</td>\n",
       "      <td>0.849333</td>\n",
       "      <td>MC1</td>\n",
       "      <td>Norwegian Shrimp N.V. -</td>\n",
       "      <td>344</td>\n",
       "      <td>0</td>\n",
       "    </tr>\n",
       "    <tr>\n",
       "      <th>11067</th>\n",
       "      <td>membership</td>\n",
       "      <td>0.814217</td>\n",
       "      <td>MC1</td>\n",
       "      <td>Malabar Sea Catch Sp</td>\n",
       "      <td>672</td>\n",
       "      <td>0</td>\n",
       "    </tr>\n",
       "    <tr>\n",
       "      <th>11068</th>\n",
       "      <td>membership</td>\n",
       "      <td>0.823890</td>\n",
       "      <td>MC1</td>\n",
       "      <td>Malabar Sea Catch Sp</td>\n",
       "      <td>449820</td>\n",
       "      <td>0</td>\n",
       "    </tr>\n",
       "  </tbody>\n",
       "</table>\n",
       "<p>11069 rows × 6 columns</p>\n",
       "</div>"
      ],
      "text/plain": [
       "                      type    weight dataset                    source   \n",
       "0                ownership  0.900140     MC1  Spanish Shrimp  Carriers  \\\n",
       "1              partnership  0.845897     MC1  Spanish Shrimp  Carriers   \n",
       "2              partnership  0.964876     MC1  Spanish Shrimp  Carriers   \n",
       "3                ownership  0.964213     MC1  Spanish Shrimp  Carriers   \n",
       "4      family_relationship  0.823486     MC1  Spanish Shrimp  Carriers   \n",
       "...                    ...       ...     ...                       ...   \n",
       "11064  family_relationship  0.817772     MC1         Ocano del Este SE   \n",
       "11065          partnership  0.873537     MC1   Norwegian Shrimp N.V. -   \n",
       "11066          partnership  0.849333     MC1   Norwegian Shrimp N.V. -   \n",
       "11067           membership  0.814217     MC1      Malabar Sea Catch Sp   \n",
       "11068           membership  0.823890     MC1      Malabar Sea Catch Sp   \n",
       "\n",
       "              target  key  \n",
       "0              12744    0  \n",
       "1           21323516    0  \n",
       "2          290834957    0  \n",
       "3            3506021    0  \n",
       "4        Conventionâ    0  \n",
       "...              ...  ...  \n",
       "11064  Mary Clements    0  \n",
       "11065       67261634    0  \n",
       "11066            344    0  \n",
       "11067            672    0  \n",
       "11068         449820    0  \n",
       "\n",
       "[11069 rows x 6 columns]"
      ]
     },
     "execution_count": 11,
     "metadata": {},
     "output_type": "execute_result"
    }
   ],
   "source": [
    "df_links"
   ]
  },
  {
   "cell_type": "code",
   "execution_count": 12,
   "metadata": {},
   "outputs": [],
   "source": [
    "# 'company',\n",
    "# 'event',\n",
    "# 'location',\n",
    "# 'movement',\n",
    "# 'organization',\n",
    "# 'person',\n",
    "# 'political_organization',\n",
    "# 'vessel'"
   ]
  },
  {
   "cell_type": "code",
   "execution_count": 13,
   "metadata": {},
   "outputs": [
    {
     "name": "stdout",
     "output_type": "stream",
     "text": [
      "political_organization :\n"
     ]
    },
    {
     "data": {
      "text/plain": [
       "1132    2653581\n",
       "1833     428949\n",
       "3099    3190258\n",
       "906      706129\n",
       "2220     789040\n",
       "Name: id, dtype: object"
      ]
     },
     "metadata": {},
     "output_type": "display_data"
    },
    {
     "name": "stdout",
     "output_type": "stream",
     "text": [
      "vessel :\n"
     ]
    },
    {
     "data": {
      "text/plain": [
       "1261       Deckhands\n",
       "2714    Bulk Carrier\n",
       "1654      vesselâs\n",
       "121               77\n",
       "1738      HMS Medway\n",
       "Name: id, dtype: object"
      ]
     },
     "metadata": {},
     "output_type": "display_data"
    },
    {
     "name": "stdout",
     "output_type": "stream",
     "text": [
      "company :\n"
     ]
    },
    {
     "data": {
      "text/plain": [
       "2921               Lake Nyasa Ltd. Corporation\n",
       "1752            Diao yu bi sai Tidal BV Export\n",
       "3115                    AquaFresh Foods CJSC -\n",
       "2920    Portuguese Sardines GmbH & Co. KG Line\n",
       "298          Belgian Scallop Ltd. Liability Co\n",
       "Name: id, dtype: object"
      ]
     },
     "metadata": {},
     "output_type": "display_data"
    },
    {
     "name": "stdout",
     "output_type": "stream",
     "text": [
      "movement :\n"
     ]
    },
    {
     "data": {
      "text/plain": [
       "3052       2028\n",
       "2319     60-day\n",
       "2705    30 days\n",
       "390       weeks\n",
       "712      normal\n",
       "Name: id, dtype: object"
      ]
     },
     "metadata": {},
     "output_type": "display_data"
    },
    {
     "name": "stdout",
     "output_type": "stream",
     "text": [
      "location :\n"
     ]
    },
    {
     "data": {
      "text/plain": [
       "3105    e631b105-4953-43e1-8d37-a3ab5dd3d860\n",
       "2882    d4b66d04-ad3c-425a-a123-00e589b86a52\n",
       "1128    292bf7d9-d86c-411d-9a85-da0cb4535e22\n",
       "2049    62d39460-2980-4835-91ea-47073f724d3b\n",
       "2300    06c85abe-f160-4a9f-bfb2-d58099a6be80\n",
       "Name: id, dtype: object"
      ]
     },
     "metadata": {},
     "output_type": "display_data"
    },
    {
     "name": "stdout",
     "output_type": "stream",
     "text": [
      "event :\n"
     ]
    },
    {
     "data": {
      "text/plain": [
       "1402     yearsâthat\n",
       "2828            Storm\n",
       "1829    âaccelerate\n",
       "1974             Hunt\n",
       "1179      expect year\n",
       "Name: id, dtype: object"
      ]
     },
     "metadata": {},
     "output_type": "display_data"
    },
    {
     "name": "stdout",
     "output_type": "stream",
     "text": [
      "person :\n"
     ]
    },
    {
     "data": {
      "text/plain": [
       "1283     Gabriela Graham\n",
       "1867      Billy Robinson\n",
       "2832        Diane Forbes\n",
       "2341    Matthew Fletcher\n",
       "2859         Diane Young\n",
       "Name: id, dtype: object"
      ]
     },
     "metadata": {},
     "output_type": "display_data"
    },
    {
     "name": "stdout",
     "output_type": "stream",
     "text": [
      "organization :\n"
     ]
    },
    {
     "data": {
      "text/plain": [
       "1155    506986590\n",
       "1088       693436\n",
       "2923         3740\n",
       "1067        39893\n",
       "1574        75399\n",
       "Name: id, dtype: object"
      ]
     },
     "metadata": {},
     "output_type": "display_data"
    }
   ],
   "source": [
    "# get few sample of id for each type\n",
    "for node_type in node_types:\n",
    "    print(node_type, ':')\n",
    "    display(df_nodes[df_nodes['type'] == node_type]['id'].sample(5))  \n"
   ]
  },
  {
   "cell_type": "code",
   "execution_count": 14,
   "metadata": {},
   "outputs": [
    {
     "data": {
      "text/plain": [
       "212              Act\n",
       "223     months years\n",
       "237          cookies\n",
       "278              âŠ\n",
       "283             arts\n",
       "            ...     \n",
       "2868        âStuff\n",
       "2918    course years\n",
       "3054     entire 2036\n",
       "3068           2032s\n",
       "3094        2036âs\n",
       "Name: id, Length: 74, dtype: object"
      ]
     },
     "execution_count": 14,
     "metadata": {},
     "output_type": "execute_result"
    }
   ],
   "source": [
    "df_nodes[df_nodes['type'] == 'event']['id']"
   ]
  },
  {
   "cell_type": "code",
   "execution_count": 15,
   "metadata": {},
   "outputs": [
    {
     "ename": "ModuleNotFoundError",
     "evalue": "No module named 'ftfy'",
     "output_type": "error",
     "traceback": [
      "\u001b[0;31m---------------------------------------------------------------------------\u001b[0m",
      "\u001b[0;31mModuleNotFoundError\u001b[0m                       Traceback (most recent call last)",
      "Cell \u001b[0;32mIn[15], line 1\u001b[0m\n\u001b[0;32m----> 1\u001b[0m \u001b[39mimport\u001b[39;00m \u001b[39mftfy\u001b[39;00m\n\u001b[1;32m      3\u001b[0m \u001b[39m# Create a function to simplify the process of fixing text and updating 'id' in both dataframes\u001b[39;00m\n\u001b[1;32m      4\u001b[0m \u001b[39mdef\u001b[39;00m \u001b[39mfix_text_and_update\u001b[39m(df_nodes: pd\u001b[39m.\u001b[39mDataFrame, df_links: pd\u001b[39m.\u001b[39mDataFrame, node_type: \u001b[39mstr\u001b[39m):\n\u001b[1;32m      5\u001b[0m     \u001b[39m# Get the indices of the nodes of the given type\u001b[39;00m\n",
      "\u001b[0;31mModuleNotFoundError\u001b[0m: No module named 'ftfy'"
     ]
    }
   ],
   "source": [
    "import ftfy\n",
    "\n",
    "# Create a function to simplify the process of fixing text and updating 'id' in both dataframes\n",
    "def fix_text_and_update(df_nodes: pd.DataFrame, df_links: pd.DataFrame, node_type: str):\n",
    "    # Get the indices of the nodes of the given type\n",
    "    indices = df_nodes[df_nodes['type'] == node_type].index\n",
    "\n",
    "    # Fix the 'id' for nodes of the given type and remove none ascii characters\n",
    "    df_nodes.loc[indices, 'id'] = df_nodes.loc[indices, 'id'].apply(ftfy.fix_text).apply(lambda x: x.encode('ascii', 'ignore').decode())\n",
    "\n",
    "    # Update the 'target' and 'source' in df_links\n",
    "    for col in ['target', 'source']:\n",
    "        df_links.loc[df_links[col].isin(df_nodes.loc[indices, 'id']), col] = df_links.loc[df_links[col].isin(df_nodes.loc[indices, 'id']), col].apply(ftfy.fix_text).apply(lambda x: x.encode('ascii', 'ignore').decode())\n",
    "\n",
    "# fix the id in df_nodes, where type is event, and the related id in df_links\n",
    "fix_text_and_update(df_nodes, df_links, 'event')\n",
    "\n",
    "# fix the id in df_nodes, where there is no type, and the related id in df_links, add type as 'unknown'\n",
    "df_nodes.loc[df_nodes['type'].isnull(), 'type'] = 'unknown'\n",
    "fix_text_and_update(df_nodes, df_links, 'unknown')\n"
   ]
  },
  {
   "cell_type": "code",
   "execution_count": 43,
   "metadata": {},
   "outputs": [
    {
     "data": {
      "text/html": [
       "<div>\n",
       "<style scoped>\n",
       "    .dataframe tbody tr th:only-of-type {\n",
       "        vertical-align: middle;\n",
       "    }\n",
       "\n",
       "    .dataframe tbody tr th {\n",
       "        vertical-align: top;\n",
       "    }\n",
       "\n",
       "    .dataframe thead th {\n",
       "        text-align: right;\n",
       "    }\n",
       "</style>\n",
       "<table border=\"1\" class=\"dataframe\">\n",
       "  <thead>\n",
       "    <tr style=\"text-align: right;\">\n",
       "      <th></th>\n",
       "      <th>type</th>\n",
       "      <th>dataset</th>\n",
       "      <th>country</th>\n",
       "      <th>id</th>\n",
       "    </tr>\n",
       "  </thead>\n",
       "  <tbody>\n",
       "    <tr>\n",
       "      <th>10</th>\n",
       "      <td>unknown</td>\n",
       "      <td>MC1</td>\n",
       "      <td>NaN</td>\n",
       "      <td>\"victim</td>\n",
       "    </tr>\n",
       "    <tr>\n",
       "      <th>11</th>\n",
       "      <td>unknown</td>\n",
       "      <td>MC1</td>\n",
       "      <td>NaN</td>\n",
       "      <td>\"perpetrator</td>\n",
       "    </tr>\n",
       "    <tr>\n",
       "      <th>15</th>\n",
       "      <td>unknown</td>\n",
       "      <td>MC1</td>\n",
       "      <td>NaN</td>\n",
       "      <td>\\n</td>\n",
       "    </tr>\n",
       "    <tr>\n",
       "      <th>25</th>\n",
       "      <td>unknown</td>\n",
       "      <td>MC1</td>\n",
       "      <td>NaN</td>\n",
       "      <td>PRK</td>\n",
       "    </tr>\n",
       "    <tr>\n",
       "      <th>26</th>\n",
       "      <td>unknown</td>\n",
       "      <td>MC1</td>\n",
       "      <td>NaN</td>\n",
       "      <td>\"Viking</td>\n",
       "    </tr>\n",
       "    <tr>\n",
       "      <th>...</th>\n",
       "      <td>...</td>\n",
       "      <td>...</td>\n",
       "      <td>...</td>\n",
       "      <td>...</td>\n",
       "    </tr>\n",
       "    <tr>\n",
       "      <th>3423</th>\n",
       "      <td>unknown</td>\n",
       "      <td>MC1</td>\n",
       "      <td>NaN</td>\n",
       "      <td>OzonAction's</td>\n",
       "    </tr>\n",
       "    <tr>\n",
       "      <th>3424</th>\n",
       "      <td>unknown</td>\n",
       "      <td>MC1</td>\n",
       "      <td>NaN</td>\n",
       "      <td>\"Entirely</td>\n",
       "    </tr>\n",
       "    <tr>\n",
       "      <th>3425</th>\n",
       "      <td>unknown</td>\n",
       "      <td>MC1</td>\n",
       "      <td>NaN</td>\n",
       "      <td>Ocano del Este SE</td>\n",
       "    </tr>\n",
       "    <tr>\n",
       "      <th>3426</th>\n",
       "      <td>unknown</td>\n",
       "      <td>MC1</td>\n",
       "      <td>NaN</td>\n",
       "      <td>Norwegian Shrimp N.V. -</td>\n",
       "    </tr>\n",
       "    <tr>\n",
       "      <th>3427</th>\n",
       "      <td>unknown</td>\n",
       "      <td>MC1</td>\n",
       "      <td>NaN</td>\n",
       "      <td>Malabar Sea Catch Sp</td>\n",
       "    </tr>\n",
       "  </tbody>\n",
       "</table>\n",
       "<p>605 rows × 4 columns</p>\n",
       "</div>"
      ],
      "text/plain": [
       "         type dataset country                       id\n",
       "10    unknown     MC1     NaN                  \"victim\n",
       "11    unknown     MC1     NaN             \"perpetrator\n",
       "15    unknown     MC1     NaN                       \\n\n",
       "25    unknown     MC1     NaN                      PRK\n",
       "26    unknown     MC1     NaN                  \"Viking\n",
       "...       ...     ...     ...                      ...\n",
       "3423  unknown     MC1     NaN             OzonAction's\n",
       "3424  unknown     MC1     NaN                \"Entirely\n",
       "3425  unknown     MC1     NaN        Ocano del Este SE\n",
       "3426  unknown     MC1     NaN  Norwegian Shrimp N.V. -\n",
       "3427  unknown     MC1     NaN     Malabar Sea Catch Sp\n",
       "\n",
       "[605 rows x 4 columns]"
      ]
     },
     "execution_count": 43,
     "metadata": {},
     "output_type": "execute_result"
    }
   ],
   "source": [
    "# find node without type attribute\n",
    "df_nodes[df_nodes['type'] == 'unknown']"
   ]
  },
  {
   "cell_type": "code",
   "execution_count": 16,
   "metadata": {},
   "outputs": [
    {
     "name": "stdout",
     "output_type": "stream",
     "text": [
      "{'type': 'organization', 'dataset': 'MC1', 'id': 8327}\n",
      "{'type': 'organization', 'dataset': 'MC1', 'id': 979893388}\n",
      "{'dataset': 'MC1', 'id': 'Mar de la Vida OJSC'}\n"
     ]
    }
   ],
   "source": [
    "entities_to_investigate = [\"Mar de la Vida OJSC\", \"979893388\", \"Oceanfront Oasis Inc Carrie\", \"8327\"]\n",
    "investigate_nodes = [node for node in data['nodes'] if str(node['id']) in entities_to_investigate]\n",
    "for node in investigate_nodes:\n",
    "    print(node)\n"
   ]
  },
  {
   "cell_type": "code",
   "execution_count": 48,
   "metadata": {},
   "outputs": [],
   "source": [
    "import networkx as nx\n",
    "\n",
    "# Create a directed multigraph\n",
    "G = nx.MultiDiGraph()\n",
    "\n",
    "# Add nodes to the graph\n",
    "for node in data['nodes']:\n",
    "    G.add_node(node['id'], **node)\n",
    "\n",
    "# Add edges to the graph\n",
    "for link in data['links']:\n",
    "    G.add_edge(link['source'], link['target'], **link)\n"
   ]
  },
  {
   "cell_type": "code",
   "execution_count": 49,
   "metadata": {},
   "outputs": [
    {
     "name": "stderr",
     "output_type": "stream",
     "text": [
      "/usr/local/anaconda3/envs/nlp/lib/python3.8/site-packages/IPython/core/pylabtools.py:152: UserWarning: Glyph 128 (\\x80) missing from current font.\n",
      "  fig.canvas.print_figure(bytes_io, **kw)\n",
      "/usr/local/anaconda3/envs/nlp/lib/python3.8/site-packages/IPython/core/pylabtools.py:152: UserWarning: Glyph 156 (\\x9c) missing from current font.\n",
      "  fig.canvas.print_figure(bytes_io, **kw)\n"
     ]
    },
    {
     "data": {
      "image/png": "[encoded data removed]",
      "text/plain": [
       "<Figure size 640x480 with 1 Axes>"
      ]
     },
     "metadata": {},
     "output_type": "display_data"
    }
   ],
   "source": [
    "import matplotlib.pyplot as plt\n",
    "\n",
    "# Get the subgraph for the entity \"Mar de la Vida OJSC\"\n",
    "H = G.subgraph(G.neighbors(\"Mar de la Vida OJSC\"))\n",
    "\n",
    "# Draw the subgraph\n",
    "nx.draw(H, with_labels=True)\n",
    "plt.show()\n"
   ]
  },
  {
   "cell_type": "code",
   "execution_count": 50,
   "metadata": {},
   "outputs": [
    {
     "name": "stderr",
     "output_type": "stream",
     "text": [
      "/usr/local/anaconda3/envs/nlp/lib/python3.8/site-packages/IPython/core/pylabtools.py:152: UserWarning: Glyph 128 (\\x80) missing from current font.\n",
      "  fig.canvas.print_figure(bytes_io, **kw)\n",
      "/usr/local/anaconda3/envs/nlp/lib/python3.8/site-packages/IPython/core/pylabtools.py:152: UserWarning: Glyph 156 (\\x9c) missing from current font.\n",
      "  fig.canvas.print_figure(bytes_io, **kw)\n"
     ]
    },
    {
     "data": {
      "image/png": "[encoded data removed]",
      "text/plain": [
       "<Figure size 640x480 with 1 Axes>"
      ]
     },
     "metadata": {},
     "output_type": "display_data"
    }
   ],
   "source": [
    "import matplotlib.pyplot as plt\n",
    "\n",
    "# Get the subgraph for the entity \"Mar de la Vida OJSC\"\n",
    "H = G.subgraph(G.neighbors(\"Mar de la Vida OJSC\"))\n",
    "\n",
    "# Draw the subgraph\n",
    "nx.draw(H, with_labels=True)\n",
    "plt.show()\n"
   ]
  },
  {
   "cell_type": "code",
   "execution_count": 22,
   "metadata": {},
   "outputs": [
    {
     "data": {
      "text/plain": [
       "Counter({'partnership': 2,\n",
       "         'ownership': 1,\n",
       "         'membership': 7,\n",
       "         'family_relationship': 2})"
      ]
     },
     "execution_count": 22,
     "metadata": {},
     "output_type": "execute_result"
    }
   ],
   "source": [
    "from collections import Counter\n",
    "\n",
    "# Count the types of edges connected to the entity \"Mar de la Vida OJSC\"\n",
    "Counter([link['type'] for link in data['links'] if link['source'] == \"Mar de la Vida OJSC\"])\n"
   ]
  },
  {
   "cell_type": "code",
   "execution_count": 17,
   "metadata": {},
   "outputs": [
    {
     "name": "stdout",
     "output_type": "stream",
     "text": [
      "commit\n"
     ]
    }
   ],
   "source": [
    "print('commit')"
   ]
  },
  {
   "cell_type": "code",
   "execution_count": null,
   "metadata": {},
   "outputs": [],
   "source": []
  }
 ],
 "metadata": {
  "kernelspec": {
   "display_name": "base",
   "language": "python",
   "name": "python3"
  },
  "language_info": {
   "codemirror_mode": {
    "name": "ipython",
    "version": 3
   },
   "file_extension": ".py",
   "mimetype": "text/x-python",
   "name": "python",
   "nbconvert_exporter": "python",
   "pygments_lexer": "ipython3",
   "version": "3.10.4"
  },
  "orig_nbformat": 4
 },
 "nbformat": 4,
 "nbformat_minor": 2
}
