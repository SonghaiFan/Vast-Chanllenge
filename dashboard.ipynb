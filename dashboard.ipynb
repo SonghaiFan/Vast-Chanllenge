{
 "cells": [
  {
   "cell_type": "code",
   "execution_count": 6,
   "metadata": {},
   "outputs": [],
   "source": [
    "# %pip install -q ipywidgets\n",
    "# %pip install -q matplotlib\n",
    "# %pip install -q networkx"
   ]
  },
  {
   "cell_type": "code",
   "execution_count": 7,
   "metadata": {},
   "outputs": [
    {
     "data": {
      "application/vnd.jupyter.widget-view+json": {
       "model_id": "299d98bfa1dc455291d95c3d9665c930",
       "version_major": 2,
       "version_minor": 0
      },
      "text/plain": [
       "VBox(children=(Text(value='', description='Node ID:'), HBox(children=(Button(description='Mar de la Vida OJSC'…"
      ]
     },
     "metadata": {},
     "output_type": "display_data"
    },
    {
     "data": {
      "application/vnd.jupyter.widget-view+json": {
       "model_id": "1b0be539fcf041e89a89ec86de778ddf",
       "version_major": 2,
       "version_minor": 0
      },
      "text/plain": [
       "VBox(children=(VBox(children=(HBox(children=(Label(value='Node type:'), HBox(children=(Checkbox(value=False, d…"
      ]
     },
     "metadata": {},
     "output_type": "display_data"
    }
   ],
   "source": [
    "import json\n",
    "import matplotlib.pyplot as plt\n",
    "import networkx as nx\n",
    "from notebookui.entities import *\n",
    "from notebookui.filters import *\n",
    "from graphutils.graphfilter import GraphFilter\n",
    "\n",
    "original_data = json.load(open('data/MC1.json',encoding='utf-8'))\n",
    "searchBar = UISearchBar().show()\n",
    "filterBar = UIFilterBar().show()"
   ]
  },
  {
   "cell_type": "code",
   "execution_count": 10,
   "metadata": {},
   "outputs": [
    {
     "ename": "TypeError",
     "evalue": "can only concatenate str (not \"int\") to str",
     "output_type": "error",
     "traceback": [
      "\u001b[1;31m---------------------------------------------------------------------------\u001b[0m",
      "\u001b[1;31mTypeError\u001b[0m                                 Traceback (most recent call last)",
      "Cell \u001b[1;32mIn[10], line 3\u001b[0m\n\u001b[0;32m      1\u001b[0m filtered_data \u001b[39m=\u001b[39m GraphFilter\u001b[39m.\u001b[39mfilter_graph_by_type(original_data\u001b[39m.\u001b[39mcopy(), filterBar\u001b[39m.\u001b[39mnode_types, filterBar\u001b[39m.\u001b[39mlink_types)\n\u001b[1;32m----> 3\u001b[0m \u001b[39mprint\u001b[39m(\u001b[39m\"\u001b[39;49m\u001b[39mNodes from \u001b[39;49m\u001b[39m\"\u001b[39;49m \u001b[39m+\u001b[39;49m original_data[\u001b[39m'\u001b[39;49m\u001b[39mnodes\u001b[39;49m\u001b[39m'\u001b[39;49m]\u001b[39m.\u001b[39;49m\u001b[39m__len__\u001b[39;49m()\u001b[39m+\u001b[39m\u001b[39m\"\u001b[39m\u001b[39m filtered to \u001b[39m\u001b[39m\"\u001b[39m\u001b[39m+\u001b[39mfiltered_data[\u001b[39m'\u001b[39m\u001b[39mnodes\u001b[39m\u001b[39m'\u001b[39m]\u001b[39m.\u001b[39m\u001b[39m__len__\u001b[39m())\n\u001b[0;32m      4\u001b[0m \u001b[39mprint\u001b[39m(\u001b[39m\"\u001b[39m\u001b[39mLinks from \u001b[39m\u001b[39m\"\u001b[39m \u001b[39m+\u001b[39m original_data[\u001b[39m'\u001b[39m\u001b[39mlinks\u001b[39m\u001b[39m'\u001b[39m]\u001b[39m.\u001b[39m\u001b[39m__len__\u001b[39m()\u001b[39m+\u001b[39m\u001b[39m\"\u001b[39m\u001b[39m filtered to \u001b[39m\u001b[39m\"\u001b[39m\u001b[39m+\u001b[39mfiltered_data[\u001b[39m'\u001b[39m\u001b[39mlinks\u001b[39m\u001b[39m'\u001b[39m]\u001b[39m.\u001b[39m\u001b[39m__len__\u001b[39m())\n",
      "\u001b[1;31mTypeError\u001b[0m: can only concatenate str (not \"int\") to str"
     ]
    }
   ],
   "source": [
    "filtered_data = GraphFilter.filter_graph_by_type(original_data.copy(), filterBar.node_types, filterBar.link_types)\n",
    "\n",
    "print(\"Nodes from \" + str(original_data['nodes'].__len__())+\" filtered to \"+ str(filtered_data['nodes'].__len__()))\n",
    "print(\"Links from \" + str(original_data['links'].__len__())+\" filtered to \"+ str(filtered_data['links'].__len__()))"
   ]
  }
 ],
 "metadata": {
  "kernelspec": {
   "display_name": "Python 3 (ipykernel)",
   "language": "python",
   "name": "python3"
  },
  "language_info": {
   "codemirror_mode": {
    "name": "ipython",
    "version": 3
   },
   "file_extension": ".py",
   "mimetype": "text/x-python",
   "name": "python",
   "nbconvert_exporter": "python",
   "pygments_lexer": "ipython3",
   "version": "3.9.7"
  },
  "orig_nbformat": 4
 },
 "nbformat": 4,
 "nbformat_minor": 2
}
