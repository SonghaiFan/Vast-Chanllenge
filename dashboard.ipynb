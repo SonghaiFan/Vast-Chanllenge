{
 "cells": [
  {
   "cell_type": "code",
   "execution_count": null,
   "metadata": {},
   "outputs": [],
   "source": [
    "%pip install -q ipywidgets\n",
    "%pip install -q matplotlib\n",
    "%pip install -q networkx"
   ]
  },
  {
   "cell_type": "code",
   "execution_count": 1,
   "metadata": {},
   "outputs": [
    {
     "data": {
      "application/vnd.jupyter.widget-view+json": {
       "model_id": "d126295d44e0439b91ea2616ff6cd602",
       "version_major": 2,
       "version_minor": 0
      },
      "text/plain": [
       "VBox(children=(Text(value='', description='Node ID:'), HBox(children=(Button(description='Mar de la Vida OJSC'…"
      ]
     },
     "metadata": {},
     "output_type": "display_data"
    },
    {
     "data": {
      "application/vnd.jupyter.widget-view+json": {
       "model_id": "a66c21db19ab40d6b87de586b4a62ff6",
       "version_major": 2,
       "version_minor": 0
      },
      "text/plain": [
       "VBox(children=(VBox(children=(HBox(children=(Label(value='Node type:'), HBox(children=(Checkbox(value=False, d…"
      ]
     },
     "metadata": {},
     "output_type": "display_data"
    }
   ],
   "source": [
    "import json\n",
    "import matplotlib.pyplot as plt\n",
    "import networkx as nx\n",
    "from notebookui.entities import *\n",
    "from notebookui.filters import *\n",
    "from graphutils.graphfilter import GraphFilter\n",
    "\n",
    "original_data = json.load(open('data/MC1.json',encoding='utf-8'))\n",
    "searchBar = UISearchBar().show()\n",
    "filterBar = UIFilterBar().show()"
   ]
  },
  {
   "cell_type": "code",
   "execution_count": 3,
   "metadata": {},
   "outputs": [
    {
     "name": "stdout",
     "output_type": "stream",
     "text": [
      "Nodes from 3428 filtered to 1022\n",
      "Links from 11069 filtered to 920\n"
     ]
    }
   ],
   "source": [
    "filtered_data = GraphFilter.filter_graph_by_type(original_data, filterBar.node_types, filterBar.link_types)\n",
    "\n",
    "print(\"Nodes from \" + str(original_data['nodes'].__len__())+\" filtered to \"+ str(filtered_data['nodes'].__len__()))\n",
    "print(\"Links from \" + str(original_data['links'].__len__())+\" filtered to \"+ str(filtered_data['links'].__len__()))"
   ]
  },
  {
   "cell_type": "code",
   "execution_count": null,
   "metadata": {},
   "outputs": [],
   "source": []
  }
 ],
 "metadata": {
  "kernelspec": {
   "display_name": "Python 3 (ipykernel)",
   "language": "python",
   "name": "python3"
  },
  "language_info": {
   "codemirror_mode": {
    "name": "ipython",
    "version": 3
   },
   "file_extension": ".py",
   "mimetype": "text/x-python",
   "name": "python",
   "nbconvert_exporter": "python",
   "pygments_lexer": "ipython3",
   "version": "3.8.16"
  },
  "orig_nbformat": 4
 },
 "nbformat": 4,
 "nbformat_minor": 2
}
