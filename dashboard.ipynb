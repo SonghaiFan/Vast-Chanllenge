{
 "cells": [
  {
   "cell_type": "code",
   "execution_count": 14,
   "metadata": {},
   "outputs": [],
   "source": [
    "#%pip install -q ipywidgets"
   ]
  },
  {
   "cell_type": "code",
   "execution_count": 15,
   "metadata": {},
   "outputs": [
    {
     "data": {
      "application/vnd.jupyter.widget-view+json": {
       "model_id": "9231373451b3467ca8c9aa4d5aaaa98a",
       "version_major": 2,
       "version_minor": 0
      },
      "text/plain": [
       "VBox(children=(HBox(children=(Text(value='', description='Node ID:'), Text(value='', description='...', disabl…"
      ]
     },
     "metadata": {},
     "output_type": "display_data"
    },
    {
     "data": {
      "application/vnd.jupyter.widget-view+json": {
       "model_id": "dfcd401f9b1b40ce8be3e7b01f2633e3",
       "version_major": 2,
       "version_minor": 0
      },
      "text/plain": [
       "VBox(children=(VBox(children=(HBox(children=(Label(value='Node type:'), HBox(children=(Checkbox(value=False, d…"
      ]
     },
     "metadata": {},
     "output_type": "display_data"
    }
   ],
   "source": [
    "import json\n",
    "from ui.entities import *\n",
    "from ui.filters import *\n",
    "\n",
    "original_data = json.load(open('data/MC1.json',encoding='utf-8'))\n",
    "\n",
    "        \n",
    "\n",
    "searchBar = UISearchBar().show()\n",
    "filterBar = UIFilterBar().show()"
   ]
  },
  {
   "cell_type": "code",
   "execution_count": 19,
   "metadata": {},
   "outputs": [
    {
     "data": {
      "text/plain": [
       "0"
      ]
     },
     "execution_count": 19,
     "metadata": {},
     "output_type": "execute_result"
    }
   ],
   "source": [
    "filtered_nodes = [node for node in original_data['nodes'] if node.get('type') in filterBar.node_types]\n",
    "filtered_links = [link for link in original_data['links'] if link.get('type') in filterBar.link_types]\n",
    "filtered_data = original_data\n",
    "filtered_data['nodes'] = filtered_nodes\n",
    "filtered_data['links'] = filtered_links\n",
    "filtered_data['nodes'].__len__()"
   ]
  }
 ],
 "metadata": {
  "kernelspec": {
   "display_name": "Python 3 (ipykernel)",
   "language": "python",
   "name": "python3"
  },
  "language_info": {
   "codemirror_mode": {
    "name": "ipython",
    "version": 3
   },
   "file_extension": ".py",
   "mimetype": "text/x-python",
   "name": "python",
   "nbconvert_exporter": "python",
   "pygments_lexer": "ipython3",
   "version": "3.9.7"
  },
  "orig_nbformat": 4
 },
 "nbformat": 4,
 "nbformat_minor": 2
}
